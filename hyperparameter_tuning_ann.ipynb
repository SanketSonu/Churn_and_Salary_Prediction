{
 "cells": [
  {
   "cell_type": "markdown",
   "metadata": {},
   "source": [
    "### Determining the optimal number of hidden layers and neurons for an Artificial Neural Network (ANN) \n",
    "This can be challenging and often requires experimentation. However, there are some guidelines and methods that can help you in making an informed decision:\n",
    "\n",
    "- Start Simple: Begin with a simple architecture and gradually increase complexity if needed.\n",
    "- Grid Search/Random Search: Use grid search or random search to try different architectures.\n",
    "- Cross-Validation: Use cross-validation to evaluate the performance of different architectures.\n",
    "- Heuristics and Rules of Thumb: Some heuristics and empirical rules can provide starting points, such as:\n",
    "  -    The number of neurons in the hidden layer should be between the size of the input layer and the size of the output layer.\n",
    "  -  A common practice is to start with 1-2 hidden layers."
   ]
  },
  {
   "cell_type": "code",
   "execution_count": 1,
   "metadata": {},
   "outputs": [
    {
     "name": "stdout",
     "output_type": "stream",
     "text": [
      "WARNING:tensorflow:From d:\\Work & Study\\Study & Projects\\Customer Churn Prediction\\venv_cus_churn\\lib\\site-packages\\keras\\src\\losses.py:2976: The name tf.losses.sparse_softmax_cross_entropy is deprecated. Please use tf.compat.v1.losses.sparse_softmax_cross_entropy instead.\n",
      "\n"
     ]
    }
   ],
   "source": [
    "import pandas as pd\n",
    "from sklearn.model_selection import train_test_split, GridSearchCV\n",
    "from sklearn.preprocessing import StandardScaler, LabelEncoder, OneHotEncoder\n",
    "from sklearn.pipeline import Pipeline\n",
    "from scikeras.wrappers import KerasClassifier\n",
    "import tensorflow as tf\n",
    "from tensorflow.keras.models import Sequential\n",
    "from tensorflow.keras.layers import Dense\n",
    "from tensorflow.keras.callbacks import EarlyStopping\n",
    "\n",
    "import pickle"
   ]
  },
  {
   "cell_type": "code",
   "execution_count": 2,
   "metadata": {},
   "outputs": [],
   "source": [
    "data=pd.read_csv('data/Churn_Modelling.csv')\n",
    "data = data.drop(['RowNumber', 'CustomerId', 'Surname'], axis=1)\n",
    "\n",
    "# OneHotEncode 'Gender'\n",
    "onehot_encoder_gender = OneHotEncoder()\n",
    "gender_encoder = onehot_encoder_gender.fit_transform(data[['Gender']]).toarray()\n",
    "gender_encoded_df=pd.DataFrame(gender_encoder,columns=onehot_encoder_gender.get_feature_names_out(['Gender']))\n",
    "\n",
    "# OneHotEncode 'Geography'\n",
    "onehot_encoder_geo = OneHotEncoder()\n",
    "geo_encoder = onehot_encoder_geo.fit_transform(data[['Geography']]).toarray()\n",
    "geo_encoded_df=pd.DataFrame(geo_encoder,columns=onehot_encoder_geo.get_feature_names_out(['Geography']))\n",
    "\n",
    "# Concatenate the encoded columns back to the dataframe and drop the original columns\n",
    "data = pd.concat([data, gender_encoded_df, geo_encoded_df], axis=1).drop(['Gender', 'Geography'], axis=1)\n",
    "\n",
    "## Save the encoders and sscaler\n",
    "with open('artifacts/onehot_encoder_gender.pkl','wb') as file:\n",
    "    pickle.dump(onehot_encoder_gender,file)\n",
    "\n",
    "with open('artifacts/onehot_encoder_geo.pkl','wb') as file:\n",
    "    pickle.dump(onehot_encoder_geo,file)\n",
    "\n",
    "## DiVide the dataset into indepent and dependent features\n",
    "X=data.drop('Exited',axis=1)\n",
    "y=data['Exited']\n",
    "\n",
    "## Split the data in training and tetsing sets\n",
    "X_train,X_test,y_train,y_test=train_test_split(X,y,test_size=0.2,random_state=42)\n",
    "\n",
    "## Scale these features\n",
    "scaler=StandardScaler()\n",
    "X_train=scaler.fit_transform(X_train)\n",
    "X_test=scaler.transform(X_test)\n",
    "\n",
    "with open('artifacts/scaler_churn.pkl','wb') as file:\n",
    "    pickle.dump(scaler,file)"
   ]
  },
  {
   "cell_type": "code",
   "execution_count": 3,
   "metadata": {},
   "outputs": [],
   "source": [
    "## Define a function to create the model and try different parameters(KerasClassifier)\n",
    "\n",
    "def create_model(neurons=32,layers=1):\n",
    "    model=Sequential()\n",
    "    model.add(Dense(neurons,activation='relu',input_shape=(X_train.shape[1],)))\n",
    "\n",
    "    for _ in range(layers-1):\n",
    "        model.add(Dense(neurons,activation='relu'))\n",
    "\n",
    "    model.add(Dense(1,activation='sigmoid'))\n",
    "    model.compile(optimizer='adam',loss=\"binary_crossentropy\",metrics=['accuracy'])\n",
    "\n",
    "    return model"
   ]
  },
  {
   "cell_type": "code",
   "execution_count": 4,
   "metadata": {},
   "outputs": [],
   "source": [
    "## Create a Keras classifier\n",
    "model=KerasClassifier(layers=1, neurons=32, build_fn=create_model, verbose=1)"
   ]
  },
  {
   "cell_type": "code",
   "execution_count": 5,
   "metadata": {},
   "outputs": [],
   "source": [
    "\n",
    "# Define the grid search parameters\n",
    "param_grid = {\n",
    "    'neurons': [16, 32, 64, 128],\n",
    "    'layers': [1, 2],\n",
    "    'epochs': [50, 100]\n",
    "}"
   ]
  },
  {
   "cell_type": "code",
   "execution_count": 6,
   "metadata": {},
   "outputs": [
    {
     "name": "stdout",
     "output_type": "stream",
     "text": [
      "Fitting 3 folds for each of 16 candidates, totalling 48 fits\n",
      "WARNING:tensorflow:From d:\\Work & Study\\Study & Projects\\Customer Churn Prediction\\venv_cus_churn\\lib\\site-packages\\keras\\src\\backend.py:873: The name tf.get_default_graph is deprecated. Please use tf.compat.v1.get_default_graph instead.\n",
      "\n"
     ]
    },
    {
     "name": "stderr",
     "output_type": "stream",
     "text": [
      "d:\\Work & Study\\Study & Projects\\Customer Churn Prediction\\venv_cus_churn\\lib\\site-packages\\scikeras\\wrappers.py:915: UserWarning: ``build_fn`` will be renamed to ``model`` in a future release, at which point use of ``build_fn`` will raise an Error instead.\n",
      "  X, y = self._initialize(X, y)\n"
     ]
    },
    {
     "name": "stdout",
     "output_type": "stream",
     "text": [
      "WARNING:tensorflow:From d:\\Work & Study\\Study & Projects\\Customer Churn Prediction\\venv_cus_churn\\lib\\site-packages\\keras\\src\\optimizers\\__init__.py:309: The name tf.train.Optimizer is deprecated. Please use tf.compat.v1.train.Optimizer instead.\n",
      "\n",
      "Epoch 1/50\n",
      "WARNING:tensorflow:From d:\\Work & Study\\Study & Projects\\Customer Churn Prediction\\venv_cus_churn\\lib\\site-packages\\keras\\src\\utils\\tf_utils.py:492: The name tf.ragged.RaggedTensorValue is deprecated. Please use tf.compat.v1.ragged.RaggedTensorValue instead.\n",
      "\n",
      "WARNING:tensorflow:From d:\\Work & Study\\Study & Projects\\Customer Churn Prediction\\venv_cus_churn\\lib\\site-packages\\keras\\src\\engine\\base_layer_utils.py:384: The name tf.executing_eagerly_outside_functions is deprecated. Please use tf.compat.v1.executing_eagerly_outside_functions instead.\n",
      "\n",
      "250/250 [==============================] - 1s 938us/step - loss: 0.5140 - accuracy: 0.7926\n",
      "Epoch 2/50\n",
      "250/250 [==============================] - 0s 897us/step - loss: 0.4367 - accuracy: 0.8080\n",
      "Epoch 3/50\n",
      "250/250 [==============================] - 0s 886us/step - loss: 0.4095 - accuracy: 0.8266\n",
      "Epoch 4/50\n",
      "250/250 [==============================] - 0s 892us/step - loss: 0.3857 - accuracy: 0.8420\n",
      "Epoch 5/50\n",
      "250/250 [==============================] - 0s 871us/step - loss: 0.3683 - accuracy: 0.8516\n",
      "Epoch 6/50\n",
      "250/250 [==============================] - 0s 884us/step - loss: 0.3588 - accuracy: 0.8545\n",
      "Epoch 7/50\n",
      "250/250 [==============================] - 0s 875us/step - loss: 0.3516 - accuracy: 0.8569\n",
      "Epoch 8/50\n",
      "250/250 [==============================] - 0s 884us/step - loss: 0.3474 - accuracy: 0.8579\n",
      "Epoch 9/50\n",
      "250/250 [==============================] - 0s 872us/step - loss: 0.3440 - accuracy: 0.8584\n",
      "Epoch 10/50\n",
      "250/250 [==============================] - 0s 874us/step - loss: 0.3424 - accuracy: 0.8612\n",
      "Epoch 11/50\n",
      "250/250 [==============================] - 0s 888us/step - loss: 0.3399 - accuracy: 0.8626\n",
      "Epoch 12/50\n",
      "250/250 [==============================] - 0s 890us/step - loss: 0.3385 - accuracy: 0.8620\n",
      "Epoch 13/50\n",
      "250/250 [==============================] - 0s 884us/step - loss: 0.3372 - accuracy: 0.8619\n",
      "Epoch 14/50\n",
      "250/250 [==============================] - 0s 897us/step - loss: 0.3363 - accuracy: 0.8620\n",
      "Epoch 15/50\n",
      "250/250 [==============================] - 0s 920us/step - loss: 0.3348 - accuracy: 0.8620\n",
      "Epoch 16/50\n",
      "250/250 [==============================] - 0s 889us/step - loss: 0.3340 - accuracy: 0.8631\n",
      "Epoch 17/50\n",
      "250/250 [==============================] - 0s 906us/step - loss: 0.3333 - accuracy: 0.8630\n",
      "Epoch 18/50\n",
      "250/250 [==============================] - 0s 887us/step - loss: 0.3322 - accuracy: 0.8636\n",
      "Epoch 19/50\n",
      "250/250 [==============================] - 0s 891us/step - loss: 0.3318 - accuracy: 0.8640\n",
      "Epoch 20/50\n",
      "250/250 [==============================] - 0s 911us/step - loss: 0.3308 - accuracy: 0.8620\n",
      "Epoch 21/50\n",
      "250/250 [==============================] - 0s 894us/step - loss: 0.3308 - accuracy: 0.8660\n",
      "Epoch 22/50\n",
      "250/250 [==============================] - 0s 888us/step - loss: 0.3294 - accuracy: 0.8646\n",
      "Epoch 23/50\n",
      "250/250 [==============================] - 0s 923us/step - loss: 0.3290 - accuracy: 0.8640\n",
      "Epoch 24/50\n",
      "250/250 [==============================] - 0s 880us/step - loss: 0.3294 - accuracy: 0.8645\n",
      "Epoch 25/50\n",
      "250/250 [==============================] - 0s 968us/step - loss: 0.3284 - accuracy: 0.8641\n",
      "Epoch 26/50\n",
      "250/250 [==============================] - 0s 905us/step - loss: 0.3275 - accuracy: 0.8650\n",
      "Epoch 27/50\n",
      "250/250 [==============================] - 0s 873us/step - loss: 0.3273 - accuracy: 0.8654\n",
      "Epoch 28/50\n",
      "250/250 [==============================] - 0s 895us/step - loss: 0.3274 - accuracy: 0.8633\n",
      "Epoch 29/50\n",
      "250/250 [==============================] - 0s 909us/step - loss: 0.3265 - accuracy: 0.8651\n",
      "Epoch 30/50\n",
      "250/250 [==============================] - 0s 892us/step - loss: 0.3264 - accuracy: 0.8643\n",
      "Epoch 31/50\n",
      "250/250 [==============================] - 0s 877us/step - loss: 0.3251 - accuracy: 0.8666\n",
      "Epoch 32/50\n",
      "250/250 [==============================] - 0s 906us/step - loss: 0.3258 - accuracy: 0.8655\n",
      "Epoch 33/50\n",
      "250/250 [==============================] - 0s 869us/step - loss: 0.3245 - accuracy: 0.8645\n",
      "Epoch 34/50\n",
      "250/250 [==============================] - 0s 891us/step - loss: 0.3242 - accuracy: 0.8650\n",
      "Epoch 35/50\n",
      "250/250 [==============================] - 0s 882us/step - loss: 0.3241 - accuracy: 0.8640\n",
      "Epoch 36/50\n",
      "250/250 [==============================] - 0s 903us/step - loss: 0.3239 - accuracy: 0.8640\n",
      "Epoch 37/50\n",
      "250/250 [==============================] - 0s 876us/step - loss: 0.3238 - accuracy: 0.8641\n",
      "Epoch 38/50\n",
      "250/250 [==============================] - 0s 883us/step - loss: 0.3238 - accuracy: 0.8624\n",
      "Epoch 39/50\n",
      "250/250 [==============================] - 0s 894us/step - loss: 0.3229 - accuracy: 0.8658\n",
      "Epoch 40/50\n",
      "250/250 [==============================] - 0s 872us/step - loss: 0.3225 - accuracy: 0.8650\n",
      "Epoch 41/50\n",
      "250/250 [==============================] - 0s 894us/step - loss: 0.3231 - accuracy: 0.8651\n",
      "Epoch 42/50\n",
      "250/250 [==============================] - 0s 867us/step - loss: 0.3221 - accuracy: 0.8674\n",
      "Epoch 43/50\n",
      "250/250 [==============================] - 0s 867us/step - loss: 0.3219 - accuracy: 0.8665\n",
      "Epoch 44/50\n",
      "250/250 [==============================] - 0s 884us/step - loss: 0.3222 - accuracy: 0.8650\n",
      "Epoch 45/50\n",
      "250/250 [==============================] - 0s 869us/step - loss: 0.3221 - accuracy: 0.8651\n",
      "Epoch 46/50\n",
      "250/250 [==============================] - 0s 875us/step - loss: 0.3213 - accuracy: 0.8658\n",
      "Epoch 47/50\n",
      "250/250 [==============================] - 0s 903us/step - loss: 0.3209 - accuracy: 0.8648\n",
      "Epoch 48/50\n",
      "250/250 [==============================] - 0s 875us/step - loss: 0.3208 - accuracy: 0.8656\n",
      "Epoch 49/50\n",
      "250/250 [==============================] - 0s 975us/step - loss: 0.3208 - accuracy: 0.8668\n",
      "Epoch 50/50\n",
      "250/250 [==============================] - 0s 858us/step - loss: 0.3199 - accuracy: 0.8662\n",
      "Best: 0.856250 using {'epochs': 50, 'layers': 2, 'neurons': 16}\n"
     ]
    }
   ],
   "source": [
    "# Perform grid search\n",
    "grid = GridSearchCV(estimator=model, param_grid=param_grid, scoring='accuracy', n_jobs=-1, cv=3, verbose=1)\n",
    "grid_result = grid.fit(X_train, y_train)\n",
    "\n",
    "# Print the best parameters\n",
    "print(\"Best: %f using %s\" % (grid_result.best_score_, grid_result.best_params_))"
   ]
  },
  {
   "cell_type": "code",
   "execution_count": null,
   "metadata": {},
   "outputs": [],
   "source": []
  }
 ],
 "metadata": {
  "kernelspec": {
   "display_name": "Python 3",
   "language": "python",
   "name": "python3"
  },
  "language_info": {
   "codemirror_mode": {
    "name": "ipython",
    "version": 3
   },
   "file_extension": ".py",
   "mimetype": "text/x-python",
   "name": "python",
   "nbconvert_exporter": "python",
   "pygments_lexer": "ipython3",
   "version": "3.10.0"
  }
 },
 "nbformat": 4,
 "nbformat_minor": 2
}
